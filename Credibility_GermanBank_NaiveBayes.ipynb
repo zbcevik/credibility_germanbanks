{
  "nbformat": 4,
  "nbformat_minor": 0,
  "metadata": {
    "colab": {
      "name": "Untitled1.ipynb",
      "provenance": [],
      "collapsed_sections": []
    },
    "kernelspec": {
      "name": "python3",
      "display_name": "Python 3"
    },
    "language_info": {
      "name": "python"
    }
  },
  "cells": [
    {
      "cell_type": "code",
      "metadata": {
        "colab": {
          "base_uri": "https://localhost:8080/"
        },
        "id": "GWriolxXY2es",
        "outputId": "8bb6dcff-f21e-472f-ee5c-9a7405243c7d"
      },
      "source": [
        "#This document is created with the help of document prepared by Syed Shariyar Murtaza,Ph.D, Ryerson University\n",
        "\n",
        "! pip install python-weka-wrapper3"
      ],
      "execution_count": 1,
      "outputs": [
        {
          "output_type": "stream",
          "text": [
            "Collecting python-weka-wrapper3\n",
            "  Downloading python-weka-wrapper3-0.2.3.tar.gz (12.9 MB)\n",
            "\u001b[K     |████████████████████████████████| 12.9 MB 112 kB/s \n",
            "\u001b[?25hCollecting javabridge>=1.0.14\n",
            "  Downloading javabridge-1.0.19.tar.gz (1.3 MB)\n",
            "\u001b[K     |████████████████████████████████| 1.3 MB 27.5 MB/s \n",
            "\u001b[?25hRequirement already satisfied: numpy in /usr/local/lib/python3.7/dist-packages (from python-weka-wrapper3) (1.19.5)\n",
            "Building wheels for collected packages: python-weka-wrapper3, javabridge\n",
            "  Building wheel for python-weka-wrapper3 (setup.py) ... \u001b[?25l\u001b[?25hdone\n",
            "  Created wheel for python-weka-wrapper3: filename=python_weka_wrapper3-0.2.3-py3-none-any.whl size=11540516 sha256=188f5046d39eca15c55c61a25b9137e2aa65e5660481ce60e25f26c5092198cc\n",
            "  Stored in directory: /root/.cache/pip/wheels/95/b9/7e/ea917497d6769b8b5a025c7509ef7f1c4e4da4d53621aef3e6\n",
            "  Building wheel for javabridge (setup.py) ... \u001b[?25l\u001b[?25hdone\n",
            "  Created wheel for javabridge: filename=javabridge-1.0.19-cp37-cp37m-linux_x86_64.whl size=1636647 sha256=461e3b299a54192d07a00765bb8a496d24b7c7a0cee27f8e4df836353bfb4e75\n",
            "  Stored in directory: /root/.cache/pip/wheels/8b/5e/7f/e1dd610613dcde4a4ed2974b4208ba90247a2dfc9add216c59\n",
            "Successfully built python-weka-wrapper3 javabridge\n",
            "Installing collected packages: javabridge, python-weka-wrapper3\n",
            "Successfully installed javabridge-1.0.19 python-weka-wrapper3-0.2.3\n"
          ],
          "name": "stdout"
        }
      ]
    },
    {
      "cell_type": "code",
      "metadata": {
        "id": "6Dor72ZGZAvX"
      },
      "source": [
        "import os\n",
        "import sys\n",
        "sys.path\n",
        "sys.path.append(\"/usr/lib/jvm/java-11-openjdk-amd64/bin/\")\n",
        "os.environ[\"JAVA_HOME\"] = \"/usr/lib/jvm/java-11-openjdk-amd64/\""
      ],
      "execution_count": 2,
      "outputs": []
    },
    {
      "cell_type": "code",
      "metadata": {
        "colab": {
          "base_uri": "https://localhost:8080/"
        },
        "id": "BpnuhLzwZFf_",
        "outputId": "6e011690-3aa0-475d-ff35-3f029b6a3de3"
      },
      "source": [
        "import weka.core.jvm as jvm\n",
        "jvm.start()"
      ],
      "execution_count": 3,
      "outputs": [
        {
          "output_type": "stream",
          "text": [
            "DEBUG:weka.core.jvm:Adding bundled jars\n",
            "DEBUG:weka.core.jvm:Classpath=['/usr/local/lib/python3.7/dist-packages/javabridge/jars/rhino-1.7R4.jar', '/usr/local/lib/python3.7/dist-packages/javabridge/jars/runnablequeue.jar', '/usr/local/lib/python3.7/dist-packages/javabridge/jars/cpython.jar', '/usr/local/lib/python3.7/dist-packages/weka/lib/weka.jar', '/usr/local/lib/python3.7/dist-packages/weka/lib/python-weka-wrapper.jar']\n",
            "DEBUG:weka.core.jvm:MaxHeapSize=default\n",
            "DEBUG:weka.core.jvm:Package support disabled\n"
          ],
          "name": "stderr"
        }
      ]
    },
    {
      "cell_type": "code",
      "metadata": {
        "colab": {
          "resources": {
            "http://localhost:8080/nbextensions/google.colab/files.js": {
              "data": "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",
              "ok": true,
              "headers": [
                [
                  "content-type",
                  "application/javascript"
                ]
              ],
              "status": 200,
              "status_text": ""
            }
          },
          "base_uri": "https://localhost:8080/",
          "height": 73
        },
        "id": "jYPwO84QZJkX",
        "outputId": "22f9bb2e-a4a9-48db-e9e5-317ca86a3c58"
      },
      "source": [
        "from google.colab import files\n",
        "uploaded = files.upload()"
      ],
      "execution_count": 4,
      "outputs": [
        {
          "output_type": "display_data",
          "data": {
            "text/html": [
              "\n",
              "     <input type=\"file\" id=\"files-9c76f9be-7ce0-4ae4-bfe9-5cdcbe347d6a\" name=\"files[]\" multiple disabled\n",
              "        style=\"border:none\" />\n",
              "     <output id=\"result-9c76f9be-7ce0-4ae4-bfe9-5cdcbe347d6a\">\n",
              "      Upload widget is only available when the cell has been executed in the\n",
              "      current browser session. Please rerun this cell to enable.\n",
              "      </output>\n",
              "      <script src=\"/nbextensions/google.colab/files.js\"></script> "
            ],
            "text/plain": [
              "<IPython.core.display.HTML object>"
            ]
          },
          "metadata": {}
        },
        {
          "output_type": "stream",
          "text": [
            "Saving german_credit.arff to german_credit.arff\n"
          ],
          "name": "stdout"
        }
      ]
    },
    {
      "cell_type": "code",
      "metadata": {
        "id": "EoDwXRYtZhk5"
      },
      "source": [
        "from weka.core.converters import Loader\n",
        "from weka.core.classes import Random\n",
        "from weka.classifiers import Classifier, Evaluation"
      ],
      "execution_count": 5,
      "outputs": []
    },
    {
      "cell_type": "code",
      "metadata": {
        "colab": {
          "base_uri": "https://localhost:8080/"
        },
        "id": "c4parq7dZk04",
        "outputId": "f352ed5a-4683-452a-d25b-784ad6427844"
      },
      "source": [
        "loader = Loader(classname=\"weka.core.converters.ArffLoader\")\n",
        "data_file = 'german_credit.arff'\n",
        "#data_file=\"churn.arff\"\n",
        "#data_file=\"bank.arff\"\n",
        "data = loader.load_file(data_file)\n",
        "\n",
        "print('Data set size: ', data.num_instances)"
      ],
      "execution_count": 6,
      "outputs": [
        {
          "output_type": "stream",
          "text": [
            "Data set size:  1000\n"
          ],
          "name": "stdout"
        }
      ]
    },
    {
      "cell_type": "code",
      "metadata": {
        "colab": {
          "base_uri": "https://localhost:8080/"
        },
        "id": "ULNyQzu3ZmX8",
        "outputId": "47e3a205-5b1e-4e96-fabb-2316a982cc35"
      },
      "source": [
        "#Attribute_types\n",
        "for i in range(data.num_attributes):\n",
        "  print (\"index \",i)\n",
        "  print(data.attribute(i))"
      ],
      "execution_count": 7,
      "outputs": [
        {
          "output_type": "stream",
          "text": [
            "index  0\n",
            "@attribute Creditability {0,1}\n",
            "index  1\n",
            "@attribute 'Account Balance' {1,2,3,4}\n",
            "index  2\n",
            "@attribute 'Duration of Credit (month)' numeric\n",
            "index  3\n",
            "@attribute 'Payment Status of Previous Credit' {0,1,2,3,4}\n",
            "index  4\n",
            "@attribute Purpose {0,1,2,3,4,5,6,8,9,10}\n",
            "index  5\n",
            "@attribute 'Credit Amount' numeric\n",
            "index  6\n",
            "@attribute 'Value Savings/Stocks' {1,2,3,4,5}\n",
            "index  7\n",
            "@attribute 'Length of current employment' {1,2,3,4,5}\n",
            "index  8\n",
            "@attribute 'Instalment per cent' numeric\n",
            "index  9\n",
            "@attribute 'Sex & Marital Status' {1,2,3,4}\n",
            "index  10\n",
            "@attribute Guarantors {1,2,3}\n",
            "index  11\n",
            "@attribute 'Duration in Current address' {1,2,3,4}\n",
            "index  12\n",
            "@attribute 'Most valuable available asset' {1,2,3,4}\n",
            "index  13\n",
            "@attribute 'Age (years)' numeric\n",
            "index  14\n",
            "@attribute 'Concurrent Credits' {1,2,3}\n",
            "index  15\n",
            "@attribute 'Type of apartment' {1,2,3}\n",
            "index  16\n",
            "@attribute 'No of Credits at this Bank' numeric\n",
            "index  17\n",
            "@attribute Occupation {1,2,3,4}\n",
            "index  18\n",
            "@attribute 'No of dependents' numeric\n",
            "index  19\n",
            "@attribute Telephone {1,2}\n",
            "index  20\n",
            "@attribute 'Foreign Worker' {1,2}\n"
          ],
          "name": "stdout"
        }
      ]
    },
    {
      "cell_type": "code",
      "metadata": {
        "colab": {
          "base_uri": "https://localhost:8080/"
        },
        "id": "WyDIP-GPZ-2_",
        "outputId": "86223a87-1e0f-4420-ee7d-b35034bc95dd"
      },
      "source": [
        "class_idx=0\n",
        "print('Will be classifying on: ', data.attribute(class_idx))\n",
        "data.class_index = class_idx"
      ],
      "execution_count": 8,
      "outputs": [
        {
          "output_type": "stream",
          "text": [
            "Will be classifying on:  @attribute Creditability {0,1}\n"
          ],
          "name": "stdout"
        }
      ]
    },
    {
      "cell_type": "code",
      "metadata": {
        "id": "w29yMdQLaGe6"
      },
      "source": [
        "# Split 70% for training and 30% for testing using a seed of 2 for random number generator\n",
        "#In the project output, 66% was chosen for the training set and 34% was chosen for the test set.\n",
        "train, test = data.train_test_split(70.0, Random(2))"
      ],
      "execution_count": 9,
      "outputs": []
    },
    {
      "cell_type": "code",
      "metadata": {
        "id": "4cTArkhRbttD"
      },
      "source": [
        ""
      ],
      "execution_count": null,
      "outputs": []
    },
    {
      "cell_type": "code",
      "metadata": {
        "colab": {
          "base_uri": "https://localhost:8080/"
        },
        "id": "gLtahgsuaGlC",
        "outputId": "a26b4ca7-2912-4baa-b356-bd14966f66c1"
      },
      "source": [
        "# Generate a pruned decision tree, with a confidence factor used for pruning of 0.10.\n",
        "#In the project output, 0.25 was chosen.\n",
        "cls = Classifier(classname=\"weka.classifiers.trees.J48\", options=[\"-C\", \"0.10\"])\n",
        "cls.build_classifier(train)\n",
        "print(cls)"
      ],
      "execution_count": 17,
      "outputs": [
        {
          "output_type": "stream",
          "text": [
            "J48 pruned tree\n",
            "------------------\n",
            "\n",
            "Account Balance = 1\n",
            "|   Duration of Credit (month) <= 33\n",
            "|   |   Payment Status of Previous Credit = 0: 0 (8.0/2.0)\n",
            "|   |   Payment Status of Previous Credit = 1: 0 (16.0/5.0)\n",
            "|   |   Payment Status of Previous Credit = 2\n",
            "|   |   |   No of Credits at this Bank <= 1: 1 (85.0/34.0)\n",
            "|   |   |   No of Credits at this Bank > 1: 0 (6.0/2.0)\n",
            "|   |   Payment Status of Previous Credit = 3\n",
            "|   |   |   Duration of Credit (month) <= 18: 1 (3.0)\n",
            "|   |   |   Duration of Credit (month) > 18: 0 (5.0)\n",
            "|   |   Payment Status of Previous Credit = 4: 1 (39.0/7.0)\n",
            "|   Duration of Credit (month) > 33: 0 (36.0/8.0)\n",
            "Account Balance = 2\n",
            "|   Credit Amount <= 8648\n",
            "|   |   Duration of Credit (month) <= 42: 1 (152.0/49.0)\n",
            "|   |   Duration of Credit (month) > 42: 0 (17.0/7.0)\n",
            "|   Credit Amount > 8648: 0 (15.0/2.0)\n",
            "Account Balance = 3: 1 (42.0/10.0)\n",
            "Account Balance = 4: 1 (276.0/33.0)\n",
            "\n",
            "Number of Leaves  : \t13\n",
            "\n",
            "Size of the tree : \t20\n",
            "\n"
          ],
          "name": "stdout"
        }
      ]
    },
    {
      "cell_type": "code",
      "metadata": {
        "colab": {
          "base_uri": "https://localhost:8080/"
        },
        "id": "AygrKaMbaxsD",
        "outputId": "607e2c28-bdef-4491-82ec-09bf39c9455d"
      },
      "source": [
        "# Evaluate the test set\n",
        "evl = Evaluation(train)\n",
        "evl.test_model(cls, test)\n",
        "print(evl.summary())"
      ],
      "execution_count": 14,
      "outputs": [
        {
          "output_type": "stream",
          "text": [
            "\n",
            "Correctly Classified Instances         227               75.6667 %\n",
            "Incorrectly Classified Instances        73               24.3333 %\n",
            "Kappa statistic                          0.3834\n",
            "Mean absolute error                      0.308 \n",
            "Root mean squared error                  0.4357\n",
            "Relative absolute error                 73.2947 %\n",
            "Root relative squared error             95.0832 %\n",
            "Total Number of Instances              300     \n",
            "\n"
          ],
          "name": "stdout"
        }
      ]
    },
    {
      "cell_type": "code",
      "metadata": {
        "colab": {
          "base_uri": "https://localhost:8080/"
        },
        "id": "d5BrZnFna7IF",
        "outputId": "5c9a8636-b8aa-4754-898b-e8a180e56be1"
      },
      "source": [
        "#The metrics\n",
        "print(\"Classes at different positions are \",data.attribute(class_idx))\n",
        "\n",
        "print(\"confusion Matrix\")\n",
        "print(evl.confusion_matrix)\n",
        "\n",
        "###############\n",
        "# Print metrics for the first class\n",
        "##############\n",
        "class_position=0\n",
        "print(\"\")\n",
        "print (\"Evaluation from the perspective of class at position \"+ str(class_position))\n",
        "print(\"TP \",evl.true_positive_rate(class_position))\n",
        "print(\"FP\",evl.false_positive_rate(class_position))\n",
        "print(\"Precision \",evl.precision(class_position))\n",
        "print(\"Recall \",evl.recall(class_position))\n",
        "\n",
        "\n",
        "###############\n",
        "# Print metrics for the second class\n",
        "##############\n",
        "class_position=1\n",
        "print(\"\")\n",
        "print (\"Evaluation from the perspective of class at position \"+ str(class_position))\n",
        "print(\"TP \",evl.true_positive_rate(class_position))\n",
        "print(\"FP\",evl.false_positive_rate(class_position))\n",
        "print(\"Precision \",evl.precision(class_position))\n",
        "print(\"Recall \",evl.recall(class_position))"
      ],
      "execution_count": 15,
      "outputs": [
        {
          "output_type": "stream",
          "text": [
            "Classes at different positions are  @attribute Creditability {0,1}\n",
            "confusion Matrix\n",
            "[[ 44.  46.]\n",
            " [ 27. 183.]]\n",
            "\n",
            "Evaluation from the perspective of class at position 0\n",
            "TP  0.4888888888888889\n",
            "FP 0.12857142857142856\n",
            "Precision  0.6197183098591549\n",
            "Recall  0.4888888888888889\n",
            "\n",
            "Evaluation from the perspective of class at position 1\n",
            "TP  0.8714285714285714\n",
            "FP 0.5111111111111111\n",
            "Precision  0.7991266375545851\n",
            "Recall  0.8714285714285714\n"
          ],
          "name": "stdout"
        }
      ]
    },
    {
      "cell_type": "code",
      "metadata": {
        "colab": {
          "base_uri": "https://localhost:8080/"
        },
        "id": "FQwe9RjSbPQr",
        "outputId": "3e752d46-8404-40f7-aa08-d8f67c9c664e"
      },
      "source": [
        "nb = Classifier(classname=\"weka.classifiers.bayes.NaiveBayes\")\n",
        "nb.build_classifier(train)\n",
        "#let's understand the NB model by printing it\n",
        "print(nb)"
      ],
      "execution_count": 16,
      "outputs": [
        {
          "output_type": "stream",
          "text": [
            "Naive Bayes Classifier\n",
            "\n",
            "                                        Class\n",
            "Attribute                                   0         1\n",
            "                                        (0.3)     (0.7)\n",
            "========================================================\n",
            "Account Balance\n",
            "  1                                       96.0     104.0\n",
            "  2                                       73.0     113.0\n",
            "  3                                       11.0      33.0\n",
            "  4                                       34.0     244.0\n",
            "  [total]                                214.0     494.0\n",
            "\n",
            "Duration of Credit (month)\n",
            "  mean                                 25.6673   19.0863\n",
            "  std. dev.                            13.3513   11.1192\n",
            "  weight sum                               210       490\n",
            "  precision                             2.2667    2.2667\n",
            "\n",
            "Payment Status of Previous Credit\n",
            "  0                                       18.0      13.0\n",
            "  1                                       21.0      15.0\n",
            "  2                                      119.0     257.0\n",
            "  3                                       21.0      44.0\n",
            "  4                                       36.0     166.0\n",
            "  [total]                                215.0     495.0\n",
            "\n",
            "Purpose\n",
            "  0                                       65.0      98.0\n",
            "  1                                       13.0      60.0\n",
            "  2                                       41.0      86.0\n",
            "  3                                       48.0     157.0\n",
            "  4                                        3.0       7.0\n",
            "  5                                        7.0      10.0\n",
            "  6                                       14.0      19.0\n",
            "  8                                        1.0       7.0\n",
            "  9                                       23.0      48.0\n",
            "  10                                       5.0       8.0\n",
            "  [total]                                220.0     500.0\n",
            "\n",
            "Credit Amount\n",
            "  mean                               3947.6463 2885.0703\n",
            "  std. dev.                          3513.4469   2334.47\n",
            "  weight sum                               210       490\n",
            "  precision                            23.8275   23.8275\n",
            "\n",
            "Value Savings/Stocks\n",
            "  1                                      157.0     277.0\n",
            "  2                                       24.0      48.0\n",
            "  3                                        9.0      40.0\n",
            "  4                                        3.0      28.0\n",
            "  5                                       22.0     102.0\n",
            "  [total]                                215.0     495.0\n",
            "\n",
            "Length of current employment\n",
            "  1                                       19.0      32.0\n",
            "  2                                       47.0      70.0\n",
            "  3                                       76.0     163.0\n",
            "  4                                       29.0      96.0\n",
            "  5                                       44.0     134.0\n",
            "  [total]                                215.0     495.0\n",
            "\n",
            "Instalment per cent\n",
            "  mean                                  3.1333    2.9592\n",
            "  std. dev.                             1.0696    1.1205\n",
            "  weight sum                               210       490\n",
            "  precision                                  1         1\n",
            "\n",
            "Sex & Marital Status\n",
            "  1                                       15.0      28.0\n",
            "  2                                       73.0     140.0\n",
            "  3                                      110.0     278.0\n",
            "  4                                       16.0      48.0\n",
            "  [total]                                214.0     494.0\n",
            "\n",
            "Guarantors\n",
            "  1                                      190.0     443.0\n",
            "  2                                       14.0      18.0\n",
            "  3                                        9.0      32.0\n",
            "  [total]                                213.0     493.0\n",
            "\n",
            "Duration in Current address\n",
            "  1                                       30.0      70.0\n",
            "  2                                       66.0     143.0\n",
            "  3                                       33.0      75.0\n",
            "  4                                       85.0     206.0\n",
            "  [total]                                214.0     494.0\n",
            "\n",
            "Most valuable available asset\n",
            "  1                                       47.0     160.0\n",
            "  2                                       44.0     118.0\n",
            "  3                                       78.0     162.0\n",
            "  4                                       45.0      54.0\n",
            "  [total]                                214.0     494.0\n",
            "\n",
            "Age (years)\n",
            "  mean                                 33.3961   36.1098\n",
            "  std. dev.                            10.7449   11.5968\n",
            "  weight sum                               210       490\n",
            "  precision                              1.098     1.098\n",
            "\n",
            "Concurrent Credits\n",
            "  1                                       42.0      64.0\n",
            "  2                                       12.0      19.0\n",
            "  3                                      159.0     410.0\n",
            "  [total]                                213.0     493.0\n",
            "\n",
            "Type of apartment\n",
            "  1                                       51.0      75.0\n",
            "  2                                      133.0     377.0\n",
            "  3                                       29.0      41.0\n",
            "  [total]                                213.0     493.0\n",
            "\n",
            "No of Credits at this Bank\n",
            "  mean                                  1.3857    1.4184\n",
            "  std. dev.                             0.5596    0.5912\n",
            "  weight sum                               210       490\n",
            "  precision                                  1         1\n",
            "\n",
            "Occupation\n",
            "  1                                        5.0      13.0\n",
            "  2                                       42.0      98.0\n",
            "  3                                      133.0     311.0\n",
            "  4                                       34.0      72.0\n",
            "  [total]                                214.0     494.0\n",
            "\n",
            "No of dependents\n",
            "  mean                                  1.1571    1.1388\n",
            "  std. dev.                             0.3639    0.3457\n",
            "  weight sum                               210       490\n",
            "  precision                                  1         1\n",
            "\n",
            "Telephone\n",
            "  1                                      135.0     293.0\n",
            "  2                                       77.0     199.0\n",
            "  [total]                                212.0     492.0\n",
            "\n",
            "Foreign Worker\n",
            "  1                                      210.0     470.0\n",
            "  2                                        2.0      22.0\n",
            "  [total]                                212.0     492.0\n",
            "\n",
            "\n"
          ],
          "name": "stdout"
        }
      ]
    },
    {
      "cell_type": "code",
      "metadata": {
        "colab": {
          "base_uri": "https://localhost:8080/"
        },
        "id": "svD1WmEUbvcw",
        "outputId": "c82db662-71bb-482e-8283-dd1f78451010"
      },
      "source": [
        "#Evaluation of Naive Bayes\n",
        "evl_nb = Evaluation(train)\n",
        "evl_nb.test_model(nb, test)\n",
        "print(evl_nb.summary())"
      ],
      "execution_count": 18,
      "outputs": [
        {
          "output_type": "stream",
          "text": [
            "\n",
            "Correctly Classified Instances         230               76.6667 %\n",
            "Incorrectly Classified Instances        70               23.3333 %\n",
            "Kappa statistic                          0.4027\n",
            "Mean absolute error                      0.2876\n",
            "Root mean squared error                  0.4173\n",
            "Relative absolute error                 68.438  %\n",
            "Root relative squared error             91.0557 %\n",
            "Total Number of Instances              300     \n",
            "\n"
          ],
          "name": "stdout"
        }
      ]
    },
    {
      "cell_type": "code",
      "metadata": {
        "colab": {
          "base_uri": "https://localhost:8080/"
        },
        "id": "0Ta96Irobz5C",
        "outputId": "a7870d73-ef29-4a85-e627-0a6c6f3de252"
      },
      "source": [
        "#Metrics for Naive Bayes\n",
        "\n",
        "print(\"Classes at different positions are \",data.attribute(class_idx))\n",
        "\n",
        "print(\"confusion Matrix\")\n",
        "#Note that the TP here will be for the class at the first position printed by the previous line\n",
        "print(evl.confusion_matrix)\n",
        "\n",
        "###############\n",
        "# Print metrics for the first class\n",
        "##############\n",
        "class_position=0\n",
        "print(\"\")\n",
        "print (\"Evaluation from the perspective of class at position \"+ str(class_position))\n",
        "print(\"TP \",evl.true_positive_rate(class_position))\n",
        "print(\"FP\",evl.false_positive_rate(class_position))\n",
        "print(\"Precision \",evl.precision(class_position))\n",
        "print(\"Recall \",evl.recall(class_position))\n",
        "\n",
        "###############\n",
        "# Print metrics for the second class\n",
        "##############\n",
        "class_position=1\n",
        "print(\"\")\n",
        "print (\"Evaluation from the perspective of class at position \"+ str(class_position))\n",
        "print(\"TP \",evl.true_positive_rate(class_position))\n",
        "print(\"FP\",evl.false_positive_rate(class_position))\n",
        "print(\"Precision \",evl.precision(class_position))\n",
        "print(\"Recall \",evl.recall(class_position))\n"
      ],
      "execution_count": 20,
      "outputs": [
        {
          "output_type": "stream",
          "text": [
            "Classes at different positions are  @attribute Creditability {0,1}\n",
            "confusion Matrix\n",
            "[[ 44.  46.]\n",
            " [ 27. 183.]]\n",
            "\n",
            "Evaluation from the perspective of class at position 0\n",
            "TP  0.4888888888888889\n",
            "FP 0.12857142857142856\n",
            "Precision  0.6197183098591549\n",
            "Recall  0.4888888888888889\n",
            "\n",
            "Evaluation from the perspective of class at position 1\n",
            "TP  0.8714285714285714\n",
            "FP 0.5111111111111111\n",
            "Precision  0.7991266375545851\n",
            "Recall  0.8714285714285714\n"
          ],
          "name": "stdout"
        }
      ]
    }
  ]
}